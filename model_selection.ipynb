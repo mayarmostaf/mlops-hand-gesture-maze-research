{
  "cells": [
    {
      "cell_type": "markdown",
      "metadata": {
        "colab_type": "text",
        "id": "view-in-github"
      },
      "source": [
        "<a href=\"https://colab.research.google.com/github/mayarmostaf/Hand-Gesture-Classification/blob/main/main.ipynb\" target=\"_parent\"><img src=\"https://colab.research.google.com/assets/colab-badge.svg\" alt=\"Open In Colab\"/></a>"
      ]
    },
    {
      "cell_type": "code",
      "execution_count": 6,
      "metadata": {
        "id": "keGx66DVP9o1"
      },
      "outputs": [],
      "source": [
        "import pandas as pd\n",
        "import numpy as np\n",
        "import joblib\n",
        "import matplotlib.pyplot as plt\n",
        "import seaborn as sns\n",
        "from sklearn.preprocessing import LabelEncoder"
      ]
    },
    {
      "cell_type": "markdown",
      "metadata": {},
      "source": [
        "#### Load Data"
      ]
    },
    {
      "cell_type": "code",
      "execution_count": 7,
      "metadata": {},
      "outputs": [],
      "source": [
        "data = pd.read_csv('preprocessed_data_variations/df3_transformed.csv')# with Tip Finger Scaling"
      ]
    },
    {
      "cell_type": "code",
      "execution_count": 8,
      "metadata": {},
      "outputs": [],
      "source": [
        "# Load target_encoder\n",
        "loaded_target_encoder = joblib.load('preprocessing_models/target_encoder.pkl')\n",
        "data[\"target\"]=loaded_target_encoder.transform(data[\"label\"])"
      ]
    },
    {
      "cell_type": "markdown",
      "metadata": {
        "id": "PoCvBb10P9pV"
      },
      "source": [
        "##### Splitting"
      ]
    },
    {
      "cell_type": "code",
      "execution_count": 17,
      "metadata": {},
      "outputs": [],
      "source": [
        "X=data.drop(columns=[\"label\",\"target\"])\n",
        "Y=data[\"target\"]"
      ]
    },
    {
      "cell_type": "code",
      "execution_count": 10,
      "metadata": {
        "id": "VYgAUm4SP9pc",
        "outputId": "d4220c9a-a56b-499d-ff6a-f9c1134f5bef"
      },
      "outputs": [
        {
          "name": "stdout",
          "output_type": "stream",
          "text": [
            "(20540, 42)\n",
            "(20540,)\n",
            "(5135, 42)\n",
            "(5135,)\n",
            "target\n",
            "15    0.064362\n",
            "8     0.064216\n",
            "3     0.063632\n",
            "6     0.062025\n",
            "13    0.061003\n",
            "0     0.058666\n",
            "10    0.058325\n",
            "12    0.057741\n",
            "11    0.056767\n",
            "14    0.056719\n",
            "9     0.056134\n",
            "4     0.055940\n",
            "17    0.053408\n",
            "16    0.052288\n",
            "1     0.050438\n",
            "7     0.049172\n",
            "5     0.042356\n",
            "2     0.036806\n",
            "Name: proportion, dtype: float64\n",
            "target\n",
            "15    0.064460\n",
            "8     0.064265\n",
            "3     0.063681\n",
            "6     0.061928\n",
            "13    0.061149\n",
            "0     0.058617\n",
            "10    0.058228\n",
            "12    0.057644\n",
            "11    0.056865\n",
            "14    0.056670\n",
            "9     0.056086\n",
            "4     0.055891\n",
            "17    0.053359\n",
            "16    0.052386\n",
            "1     0.050438\n",
            "7     0.049270\n",
            "5     0.042259\n",
            "2     0.036806\n",
            "Name: proportion, dtype: float64\n"
          ]
        }
      ],
      "source": [
        "from sklearn.model_selection import train_test_split\n",
        "\n",
        "X_train, X_test, y_train, y_test = train_test_split(data.drop(columns=[\"label\",\"target\"]), data[\"target\"], test_size=0.2, random_state=42, stratify=data[\"target\"])\n",
        "\n",
        "print(X_train.shape)\n",
        "print(y_train.shape)\n",
        "print(X_test.shape)\n",
        "print(y_test.shape)\n",
        "print(y_train.value_counts(normalize=True))\n",
        "print(y_test.value_counts(normalize=True))"
      ]
    },
    {
      "cell_type": "markdown",
      "metadata": {
        "id": "NKf9nXFkP9pd"
      },
      "source": [
        "### Model Selection"
      ]
    },
    {
      "cell_type": "markdown",
      "metadata": {},
      "source": [
        "#### KNN"
      ]
    },
    {
      "cell_type": "code",
      "execution_count": null,
      "metadata": {},
      "outputs": [
        {
          "name": "stdout",
          "output_type": "stream",
          "text": [
            "Best hyperparameters found: {'weights': 'distance', 'n_neighbors': 4, 'metric': 'manhattan'}\n",
            "Cross-validation score after Random Search: 97.52%\n"
          ]
        },
        {
          "data": {
            "text/plain": [
              "['best_knn_model.pkl']"
            ]
          },
          "execution_count": 30,
          "metadata": {},
          "output_type": "execute_result"
        }
      ],
      "source": [
        "from sklearn.neighbors import KNeighborsClassifier\n",
        "from sklearn.model_selection import RandomizedSearchCV\n",
        "from sklearn.metrics import accuracy_score\n",
        "import numpy as np\n",
        "import joblib\n",
        "\n",
        "# Define the hyperparameters grid for Random Search\n",
        "param_dist = {\n",
        "    'n_neighbors': np.arange(1, 21),  # Number of neighbors to test (1 to 20)\n",
        "    'weights': ['uniform', 'distance'],  # Different weighting strategies\n",
        "    'metric': ['euclidean', 'manhattan', 'minkowski']  # Distance metrics\n",
        "}\n",
        "\n",
        "# Initialize the KNN classifier\n",
        "clf = KNeighborsClassifier()\n",
        "\n",
        "# Perform RandomizedSearchCV using cross-validation\n",
        "random_search = RandomizedSearchCV(clf, param_distributions=param_dist, n_iter=10, cv=5, random_state=42, n_jobs=-1)\n",
        "random_search.fit(X, Y)  # Fit on the full data\n",
        "\n",
        "# Get the best hyperparameters\n",
        "best_params = random_search.best_params_\n",
        "print(f\"Best hyperparameters found: {best_params}\")\n",
        "\n",
        "# Cross-validation score (mean score across folds)\n",
        "cv_score = random_search.best_score_\n",
        "print(f'Cross-validation score after Random Search: {cv_score * 100:.2f}%')\n",
        "\n",
        "# Get the best model\n",
        "best_model = random_search.best_estimator_\n",
        "\n",
        "# Save the best model to disk\n",
        "joblib.dump(best_model, 'best_knn_model.pkl')\n"
      ]
    },
    {
      "cell_type": "code",
      "execution_count": 31,
      "metadata": {},
      "outputs": [
        {
          "data": {
            "text/plain": [
              "['model_variations/best_knn_model.pkl']"
            ]
          },
          "execution_count": 31,
          "metadata": {},
          "output_type": "execute_result"
        }
      ],
      "source": [
        "best_model = random_search.best_estimator_\n",
        "joblib.dump(best_model, 'model_variations/best_knn_model.pkl')"
      ]
    },
    {
      "cell_type": "markdown",
      "metadata": {},
      "source": [
        "#### XGBoost"
      ]
    },
    {
      "cell_type": "code",
      "execution_count": null,
      "metadata": {},
      "outputs": [
        {
          "name": "stdout",
          "output_type": "stream",
          "text": [
            "Best hyperparameters found: {'subsample': 0.8, 'n_estimators': 100, 'max_depth': 3, 'learning_rate': 0.3, 'colsample_bytree': 0.8}\n",
            "Cross-validation score after Random Search: 98.24%\n"
          ]
        }
      ],
      "source": [
        "from xgboost import XGBClassifier\n",
        "from sklearn.model_selection import RandomizedSearchCV\n",
        "import numpy as np\n",
        "\n",
        "# Define the hyperparameters grid for Random Search\n",
        "param_dist = {\n",
        "    'max_depth': [3, 6, 9, 12],  # Different maximum depths of trees\n",
        "    'learning_rate': [0.01, 0.1, 0.3, 0.5],  # Different learning rates (eta)\n",
        "    'n_estimators': [50, 100, 200],  # Number of trees\n",
        "    'subsample': [0.8, 0.9, 1.0],  # Fraction of samples to use for fitting\n",
        "    'colsample_bytree': [0.8, 0.9, 1.0]  # Fraction of features to use per tree\n",
        "}\n",
        "\n",
        "# Initialize the XGBClassifier\n",
        "model = XGBClassifier()\n",
        "\n",
        "# Perform RandomizedSearchCV using cross-validation\n",
        "random_search = RandomizedSearchCV(model, param_distributions=param_dist, n_iter=10, cv=5, random_state=42, n_jobs=-1)\n",
        "random_search.fit(X, Y)  # Fit on the full data\n",
        "\n",
        "# Get the best hyperparameters\n",
        "best_params = random_search.best_params_\n",
        "\n",
        "# Print the best hyperparameters\n",
        "print(f\"Best hyperparameters found: {best_params}\")\n",
        "\n",
        "# Cross-validation score (mean score across folds)\n",
        "cv_score = random_search.best_score_\n",
        "\n",
        "# Print the cross-validation score\n",
        "print(f'Cross-validation score after Random Search: {cv_score * 100:.2f}%')\n"
      ]
    },
    {
      "cell_type": "code",
      "execution_count": 25,
      "metadata": {},
      "outputs": [
        {
          "data": {
            "text/plain": [
              "['model_variations/best_xgb_model.pkl']"
            ]
          },
          "execution_count": 25,
          "metadata": {},
          "output_type": "execute_result"
        }
      ],
      "source": [
        "best_model = random_search.best_estimator_\n",
        "joblib.dump(best_model, 'model_variations/best_xgb_model.pkl')"
      ]
    },
    {
      "cell_type": "markdown",
      "metadata": {},
      "source": [
        "#### AdaBoost"
      ]
    },
    {
      "cell_type": "code",
      "execution_count": null,
      "metadata": {},
      "outputs": [
        {
          "name": "stderr",
          "output_type": "stream",
          "text": [
            "d:\\m\\supervised ml\\Hand-Gesture-Classification\\.venv\\lib\\site-packages\\sklearn\\ensemble\\_base.py:156: FutureWarning: `base_estimator` was renamed to `estimator` in version 1.2 and will be removed in 1.4.\n",
            "  warnings.warn(\n"
          ]
        },
        {
          "name": "stdout",
          "output_type": "stream",
          "text": [
            "Best hyperparameters found: {'n_estimators': 100, 'learning_rate': 0.5, 'base_estimator__min_samples_split': 2, 'base_estimator__max_depth': 7}\n",
            "Cross-validation score after Random Search: 97.52%\n",
            "Accuracy on test data after Random Search: 99.44%\n"
          ]
        }
      ],
      "source": [
        "from sklearn.ensemble import AdaBoostClassifier\n",
        "from sklearn.tree import DecisionTreeClassifier\n",
        "from sklearn.model_selection import RandomizedSearchCV\n",
        "from sklearn.metrics import accuracy_score\n",
        "import numpy as np\n",
        "\n",
        "\n",
        "# Define the hyperparameters grid for Random Search\n",
        "param_dist = {\n",
        "    'n_estimators': [50, 100, 200],  # Number of estimators (trees)\n",
        "    'learning_rate': [0.01, 0.1, 0.3, 0.5, 1.0],  # Learning rate for AdaBoost\n",
        "    'base_estimator__max_depth': [1, 3, 5, 7],  # Maximum depth for DecisionTree\n",
        "    'base_estimator__min_samples_split': [2, 5, 10]  # Min samples to split for DecisionTree\n",
        "}\n",
        "\n",
        "# Initialize the AdaBoostClassifier with a DecisionTreeClassifier as the base estimator\n",
        "base_estimator = DecisionTreeClassifier(max_depth=1)  # Simple decision tree\n",
        "adaboost_classifier = AdaBoostClassifier(base_estimator=base_estimator)\n",
        "\n",
        "# Perform RandomizedSearchCV using cross-validation\n",
        "random_search = RandomizedSearchCV(adaboost_classifier, param_distributions=param_dist, n_iter=10, cv=5, random_state=42, n_jobs=-1)\n",
        "random_search.fit(X, Y)  # Fit on the full data\n",
        "\n",
        "# Get the best hyperparameters\n",
        "best_params = random_search.best_params_\n",
        "\n",
        "# Print the best hyperparameters\n",
        "print(f\"Best hyperparameters found: {best_params}\")\n",
        "\n",
        "# Cross-validation score (mean score across folds)\n",
        "cv_score = random_search.best_score_\n",
        "\n",
        "# Print the cross-validation score\n",
        "print(f'Cross-validation score after Random Search: {cv_score * 100:.2f}%')\n"
      ]
    },
    {
      "cell_type": "code",
      "execution_count": 28,
      "metadata": {},
      "outputs": [
        {
          "data": {
            "text/plain": [
              "['model_variations/best_ada_model.pkl']"
            ]
          },
          "execution_count": 28,
          "metadata": {},
          "output_type": "execute_result"
        }
      ],
      "source": [
        "best_model = random_search.best_estimator_\n",
        "joblib.dump(best_model, 'model_variations/best_ada_model.pkl')"
      ]
    },
    {
      "cell_type": "markdown",
      "metadata": {},
      "source": [
        "#### RandomForest"
      ]
    },
    {
      "cell_type": "code",
      "execution_count": null,
      "metadata": {},
      "outputs": [
        {
          "name": "stderr",
          "output_type": "stream",
          "text": [
            "d:\\m\\supervised ml\\Hand-Gesture-Classification\\.venv\\lib\\site-packages\\sklearn\\model_selection\\_validation.py:425: FitFailedWarning: \n",
            "20 fits failed out of a total of 50.\n",
            "The score on these train-test partitions for these parameters will be set to nan.\n",
            "If these failures are not expected, you can try to debug them by setting error_score='raise'.\n",
            "\n",
            "Below are more details about the failures:\n",
            "--------------------------------------------------------------------------------\n",
            "20 fits failed with the following error:\n",
            "Traceback (most recent call last):\n",
            "  File \"d:\\m\\supervised ml\\Hand-Gesture-Classification\\.venv\\lib\\site-packages\\sklearn\\model_selection\\_validation.py\", line 729, in _fit_and_score\n",
            "    estimator.fit(X_train, y_train, **fit_params)\n",
            "  File \"d:\\m\\supervised ml\\Hand-Gesture-Classification\\.venv\\lib\\site-packages\\sklearn\\base.py\", line 1145, in wrapper\n",
            "    estimator._validate_params()\n",
            "  File \"d:\\m\\supervised ml\\Hand-Gesture-Classification\\.venv\\lib\\site-packages\\sklearn\\base.py\", line 638, in _validate_params\n",
            "    validate_parameter_constraints(\n",
            "  File \"d:\\m\\supervised ml\\Hand-Gesture-Classification\\.venv\\lib\\site-packages\\sklearn\\utils\\_param_validation.py\", line 96, in validate_parameter_constraints\n",
            "    raise InvalidParameterError(\n",
            "sklearn.utils._param_validation.InvalidParameterError: The 'max_features' parameter of RandomForestClassifier must be an int in the range [1, inf), a float in the range (0.0, 1.0], a str among {'sqrt', 'log2'} or None. Got 'auto' instead.\n",
            "\n",
            "  warnings.warn(some_fits_failed_message, FitFailedWarning)\n",
            "d:\\m\\supervised ml\\Hand-Gesture-Classification\\.venv\\lib\\site-packages\\sklearn\\model_selection\\_search.py:979: UserWarning: One or more of the test scores are non-finite: [0.97807205 0.97036027 0.97694255 0.97881207        nan 0.97807205\n",
            "        nan        nan 0.97881207        nan]\n",
            "  warnings.warn(\n"
          ]
        },
        {
          "name": "stdout",
          "output_type": "stream",
          "text": [
            "Best hyperparameters found: {'n_estimators': 200, 'min_samples_split': 2, 'min_samples_leaf': 2, 'max_features': 'sqrt', 'max_depth': 40, 'bootstrap': False}\n",
            "Cross-validation score after Random Search: 97.88%\n",
            "Random Forest Accuracy on test data after Random Search: 99.98%\n"
          ]
        }
      ],
      "source": [
        "from sklearn.ensemble import RandomForestClassifier\n",
        "from sklearn.model_selection import RandomizedSearchCV\n",
        "from sklearn.metrics import accuracy_score\n",
        "import numpy as np\n",
        "\n",
        "# Define the hyperparameters grid for Random Search\n",
        "param_dist = {\n",
        "    'n_estimators': [50, 100, 200, 500],  # Number of trees in the forest\n",
        "    'max_features': ['auto', 'sqrt', 'log2'],  # Number of features to consider for splitting\n",
        "    'max_depth': [None, 10, 20, 30, 40, 50],  # Max depth of the tree\n",
        "    'min_samples_split': [2, 5, 10],  # Min samples required to split a node\n",
        "    'min_samples_leaf': [1, 2, 4],  # Min samples required to be at a leaf node\n",
        "    'bootstrap': [True, False]  # Whether bootstrap samples are used when building trees\n",
        "}\n",
        "\n",
        "# Initialize the Random Forest Classifier\n",
        "random_forest_classifier = RandomForestClassifier(random_state=42)\n",
        "\n",
        "# Perform RandomizedSearchCV using cross-validation\n",
        "random_search = RandomizedSearchCV(random_forest_classifier, param_distributions=param_dist, n_iter=10, cv=5, random_state=42, n_jobs=-1)\n",
        "random_search.fit(X, Y)  # Fit on the full data\n",
        "\n",
        "# Get the best hyperparameters\n",
        "best_params = random_search.best_params_\n",
        "\n",
        "# Print the best hyperparameters\n",
        "print(f\"Best hyperparameters found: {best_params}\")\n",
        "\n",
        "# Cross-validation score (mean score across folds)\n",
        "cv_score = random_search.best_score_\n",
        "\n",
        "# Print the cross-validation score\n",
        "print(f'Cross-validation score after Random Search: {cv_score * 100:.2f}%')\n"
      ]
    },
    {
      "cell_type": "code",
      "execution_count": 33,
      "metadata": {},
      "outputs": [
        {
          "data": {
            "text/plain": [
              "['model_variations/best_rf_model.pkl']"
            ]
          },
          "execution_count": 33,
          "metadata": {},
          "output_type": "execute_result"
        }
      ],
      "source": [
        "best_model = random_search.best_estimator_\n",
        "joblib.dump(best_model, 'model_variations/best_rf_model.pkl')"
      ]
    },
    {
      "cell_type": "markdown",
      "metadata": {},
      "source": [
        "#### SVC"
      ]
    },
    {
      "cell_type": "code",
      "execution_count": null,
      "metadata": {},
      "outputs": [
        {
          "name": "stdout",
          "output_type": "stream",
          "text": [
            "Best hyperparameters found: {'tol': 0.001, 'shrinking': False, 'max_iter': 1000, 'kernel': 'poly', 'gamma': 'scale', 'degree': 5, 'coef0': 0.5, 'C': 1}\n",
            "Cross-validation score after Random Search: 98.73%\n"
          ]
        },
        {
          "name": "stderr",
          "output_type": "stream",
          "text": [
            "d:\\m\\supervised ml\\Hand-Gesture-Classification\\.venv\\lib\\site-packages\\sklearn\\svm\\_base.py:297: ConvergenceWarning: Solver terminated early (max_iter=1000).  Consider pre-processing your data with StandardScaler or MinMaxScaler.\n",
            "  warnings.warn(\n"
          ]
        }
      ],
      "source": [
        "from sklearn.svm import SVC\n",
        "from sklearn.model_selection import RandomizedSearchCV\n",
        "from sklearn.metrics import accuracy_score\n",
        "import numpy as np\n",
        "\n",
        "param_dist = {\n",
        "    'C': [0.1, 1, 10, 100],  # Regularization parameter\n",
        "    'kernel': ['linear', 'poly', 'rbf'],\n",
        "    'degree': [3, 4, 5],  # Degree of the polynomial kernel function\n",
        "    'gamma': ['scale', 'auto'],  # Kernel coefficient for 'rbf', 'poly', and 'sigmoid'\n",
        "    'coef0': [0, 0.1, 0.5],  # Independent term in kernel function\n",
        "    'shrinking': [True, False],  # Whether to use the shrinking heuristic\n",
        "    'tol': [1e-3, 1e-4],  # Tolerance for stopping criteria\n",
        "    'max_iter': [1000, 2000, -1]  # Maximum number of iterations\n",
        "}\n",
        "\n",
        "svc_classifier = SVC(random_state=42)\n",
        "random_search = RandomizedSearchCV(svc_classifier, param_distributions=param_dist, n_iter=10, cv=5, random_state=42, n_jobs=-1)\n",
        "random_search.fit(X, Y)  # Fit on the full data\n",
        "\n",
        "# best hyperparameters\n",
        "best_params = random_search.best_params_\n",
        "print(f\"Best hyperparameters found: {best_params}\")\n",
        "\n",
        "# Cross-validation score (mean score across folds)\n",
        "cv_score = random_search.best_score_\n",
        "\n",
        "# the cross-validation score\n",
        "print(f'Cross-validation score after Random Search: {cv_score * 100:.2f}%')"
      ]
    },
    {
      "cell_type": "code",
      "execution_count": 35,
      "metadata": {},
      "outputs": [
        {
          "data": {
            "text/plain": [
              "['model_variations/best_svc_model.pkl']"
            ]
          },
          "execution_count": 35,
          "metadata": {},
          "output_type": "execute_result"
        }
      ],
      "source": [
        "best_model = random_search.best_estimator_\n",
        "joblib.dump(best_model, 'model_variations/best_svc_model.pkl')"
      ]
    },
    {
      "cell_type": "markdown",
      "metadata": {},
      "source": [
        "##### Conclusion:\n",
        " SVC is The Best Model"
      ]
    },
    {
      "cell_type": "code",
      "execution_count": 22,
      "metadata": {},
      "outputs": [
        {
          "ename": "AttributeError",
          "evalue": "'GridSearchCV' object has no attribute 'best_params_'",
          "output_type": "error",
          "traceback": [
            "\u001b[1;31m---------------------------------------------------------------------------\u001b[0m",
            "\u001b[1;31mAttributeError\u001b[0m                            Traceback (most recent call last)",
            "Cell \u001b[1;32mIn[22], line 2\u001b[0m\n\u001b[0;32m      1\u001b[0m \u001b[38;5;66;03m# Best parameters found by Grid Search\u001b[39;00m\n\u001b[1;32m----> 2\u001b[0m best_grid_params \u001b[38;5;241m=\u001b[39m \u001b[43mgrid_search\u001b[49m\u001b[38;5;241;43m.\u001b[39;49m\u001b[43mbest_params_\u001b[49m\n\u001b[0;32m      3\u001b[0m \u001b[38;5;28mprint\u001b[39m(\u001b[38;5;124mf\u001b[39m\u001b[38;5;124m\"\u001b[39m\u001b[38;5;124mBest hyperparameters found from Grid Search: \u001b[39m\u001b[38;5;132;01m{\u001b[39;00mbest_grid_params\u001b[38;5;132;01m}\u001b[39;00m\u001b[38;5;124m\"\u001b[39m)\n\u001b[0;32m      5\u001b[0m \u001b[38;5;66;03m# Cross-validation score (mean score across folds)\u001b[39;00m\n",
            "\u001b[1;31mAttributeError\u001b[0m: 'GridSearchCV' object has no attribute 'best_params_'"
          ]
        }
      ],
      "source": [
        "# Best parameters found by Grid Search\n",
        "best_grid_params = grid_search.best_params_\n",
        "print(f\"Best hyperparameters found from Grid Search: {best_grid_params}\")\n",
        "\n",
        "# Cross-validation score (mean score across folds)\n",
        "grid_cv_score = grid_search.best_score_\n",
        "print(f'Cross-validation score after Grid Search: {grid_cv_score * 100:.2f}%')\n",
        "\n",
        "# Best model accuracy on full dataset\n",
        "best_model = grid_search.best_estimator_\n",
        "y_pred = best_model.predict(X)\n",
        "accuracy = accuracy_score(y, y_pred)\n",
        "print(f\"Model accuracy on full dataset: {accuracy * 100:.2f}%\")\n"
      ]
    },
    {
      "cell_type": "markdown",
      "metadata": {},
      "source": [
        "### Model Evaluation"
      ]
    },
    {
      "cell_type": "code",
      "execution_count": 12,
      "metadata": {},
      "outputs": [],
      "source": [
        "# Load the saved models\n",
        "loaded_model = joblib.load('model_variations/best_svc_model.pkl')\n",
        "loaded_target_encoder = joblib.load('preprocessing_models/target_encoder.pkl')"
      ]
    },
    {
      "cell_type": "code",
      "execution_count": null,
      "metadata": {},
      "outputs": [
        {
          "name": "stderr",
          "output_type": "stream",
          "text": [
            "d:\\m\\supervised ml\\Hand-Gesture-Classification\\.venv\\lib\\site-packages\\sklearn\\svm\\_base.py:297: ConvergenceWarning: Solver terminated early (max_iter=1000).  Consider pre-processing your data with StandardScaler or MinMaxScaler.\n",
            "  warnings.warn(\n",
            "d:\\m\\supervised ml\\Hand-Gesture-Classification\\.venv\\lib\\site-packages\\sklearn\\svm\\_base.py:297: ConvergenceWarning: Solver terminated early (max_iter=1000).  Consider pre-processing your data with StandardScaler or MinMaxScaler.\n",
            "  warnings.warn(\n",
            "d:\\m\\supervised ml\\Hand-Gesture-Classification\\.venv\\lib\\site-packages\\sklearn\\svm\\_base.py:297: ConvergenceWarning: Solver terminated early (max_iter=1000).  Consider pre-processing your data with StandardScaler or MinMaxScaler.\n",
            "  warnings.warn(\n",
            "d:\\m\\supervised ml\\Hand-Gesture-Classification\\.venv\\lib\\site-packages\\sklearn\\svm\\_base.py:297: ConvergenceWarning: Solver terminated early (max_iter=1000).  Consider pre-processing your data with StandardScaler or MinMaxScaler.\n",
            "  warnings.warn(\n",
            "d:\\m\\supervised ml\\Hand-Gesture-Classification\\.venv\\lib\\site-packages\\sklearn\\svm\\_base.py:297: ConvergenceWarning: Solver terminated early (max_iter=1000).  Consider pre-processing your data with StandardScaler or MinMaxScaler.\n",
            "  warnings.warn(\n"
          ]
        },
        {
          "data": {
            "image/png": "[encoded data removed]",
            "text/plain": [
              "<Figure size 800x600 with 2 Axes>"
            ]
          },
          "metadata": {},
          "output_type": "display_data"
        },
        {
          "name": "stdout",
          "output_type": "stream",
          "text": [
            "Classification Report Across 5-Folds:\n",
            "\n",
            "                 precision    recall  f1-score   support\n",
            "\n",
            "           call       0.99      0.99      0.99      1506\n",
            "        dislike       0.99      0.99      0.99      1295\n",
            "           fist       0.99      0.99      0.99       945\n",
            "           four       0.98      0.99      0.98      1634\n",
            "           like       0.99      0.98      0.98      1436\n",
            "           mute       0.97      0.98      0.97      1087\n",
            "             ok       1.00      1.00      1.00      1592\n",
            "            one       0.97      0.97      0.97      1263\n",
            "           palm       0.99      0.99      0.99      1649\n",
            "          peace       0.99      0.98      0.99      1441\n",
            " peace_inverted       0.99      0.99      0.99      1497\n",
            "           rock       1.00      0.99      1.00      1458\n",
            "           stop       0.97      0.98      0.98      1482\n",
            "  stop_inverted       0.98      0.99      0.99      1567\n",
            "          three       0.99      0.97      0.98      1456\n",
            "         three2       1.00      1.00      1.00      1653\n",
            "         two_up       0.99      0.99      0.99      1343\n",
            "two_up_inverted       0.99      0.99      0.99      1371\n",
            "\n",
            "       accuracy                           0.99     25675\n",
            "      macro avg       0.99      0.99      0.99     25675\n",
            "   weighted avg       0.99      0.99      0.99     25675\n",
            "\n",
            "Mean Accuracy Across 5-Folds: 98.74%\n"
          ]
        }
      ],
      "source": [
        "from sklearn.svm import SVC\n",
        "from sklearn.model_selection import StratifiedKFold\n",
        "from sklearn.metrics import confusion_matrix, classification_report, accuracy_score\n",
        "\n",
        "#SVC best parameters\n",
        "svc_model = SVC(\n",
        "    tol=0.001,\n",
        "    shrinking=False,\n",
        "    max_iter=1000,\n",
        "    kernel='poly',\n",
        "    gamma='scale',\n",
        "    degree=5,\n",
        "    coef0=0.5,\n",
        "    C=1\n",
        ")\n",
        "\n",
        "# 5-fold cross-validation\n",
        "kf = StratifiedKFold(n_splits=5, shuffle=True, random_state=42)\n",
        "\n",
        "y_true_all = []\n",
        "y_pred_all = []\n",
        "\n",
        "for train_index, test_index in kf.split(X, Y):\n",
        "    # Use iloc[] to index DataFrames by position\n",
        "    X_train, X_test = X.iloc[train_index], X.iloc[test_index]\n",
        "    y_train, y_test = Y.iloc[train_index], Y.iloc[test_index]\n",
        "    \n",
        "    # Model training\n",
        "    svc_model.fit(X_train, y_train)\n",
        "    \n",
        "    # Prediction\n",
        "    y_pred = svc_model.predict(X_test)\n",
        "    \n",
        "    # Save output\n",
        "    y_true_all.extend(y_test)\n",
        "    y_pred_all.extend(y_pred)\n",
        "\n",
        "y_true_all = np.array(y_true_all)\n",
        "y_pred_all = np.array(y_pred_all)\n",
        "\n",
        "# Confusion Matrix\n",
        "cm = confusion_matrix(y_true_all, y_pred_all)\n",
        "plt.figure(figsize=(8, 6))\n",
        "sns.heatmap(cm, annot=True, fmt='d', cmap='Blues', xticklabels=loaded_target_encoder.classes_, yticklabels=loaded_target_encoder.classes_)\n",
        "plt.xlabel('Predicted')\n",
        "plt.ylabel('True')\n",
        "plt.title('Confusion Matrix Across 5-Folds')\n",
        "plt.show()\n",
        "\n",
        "# Classification report for overall performance\n",
        "report = classification_report(y_true_all, y_pred_all, target_names=loaded_target_encoder.classes_)\n",
        "print(\"Classification Report Across 5-Folds:\\n\")\n",
        "print(report)\n",
        "\n",
        "# Mean accuracy\n",
        "accuracy = accuracy_score(y_true_all, y_pred_all)\n",
        "print(f\"Mean Accuracy Across 5-Folds: {accuracy * 100:.2f}%\")\n"
      ]
    }
  ],
  "metadata": {
    "colab": {
      "include_colab_link": true,
      "provenance": []
    },
    "kernelspec": {
      "display_name": ".venv",
      "language": "python",
      "name": "python3"
    },
    "language_info": {
      "codemirror_mode": {
        "name": "ipython",
        "version": 3
      },
      "file_extension": ".py",
      "mimetype": "text/x-python",
      "name": "python",
      "nbconvert_exporter": "python",
      "pygments_lexer": "ipython3",
      "version": "3.8.10"
    }
  },
  "nbformat": 4,
  "nbformat_minor": 0
}
